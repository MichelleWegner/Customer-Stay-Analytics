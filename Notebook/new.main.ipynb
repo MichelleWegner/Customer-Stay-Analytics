{
 "cells": [
  {
   "cell_type": "markdown",
   "metadata": {},
   "source": [
    "# Data Loading"
   ]
  },
  {
   "cell_type": "code",
   "execution_count": 1,
   "metadata": {},
   "outputs": [
    {
     "name": "stdout",
     "output_type": "stream",
     "text": [
      "File read successfully as a CSV file.\n",
      "Shape of the data: (7043, 32)\n",
      "   Count  Country  State  City  Zip Code  Lat Long   Latitude   Longitude  \\\n",
      "0    1.0        0      0   562   90003.0       327  33.964131 -118.272783   \n",
      "1    1.0        0      0   562   90005.0       405  34.059281 -118.307420   \n",
      "2    1.0        0      0   562   90006.0       393  34.048013 -118.293953   \n",
      "3    1.0        0      0   562   90010.0       410  34.062125 -118.315709   \n",
      "4    1.0        0      0   562   90015.0       385  34.039224 -118.266293   \n",
      "5    1.0        0      0   562   90020.0       416  34.066367 -118.309868   \n",
      "6    1.0        0      0   562   90022.0       367  34.023810 -118.156582   \n",
      "7    1.0        0      0   562   90024.0       415  34.066303 -118.435479   \n",
      "8    1.0        0      0   562   90028.0       447  34.099869 -118.326843   \n",
      "9    1.0        0      0   562   90029.0       440  34.089953 -118.294824   \n",
      "\n",
      "   Gender  Senior Citizen  ...  Contract  Paperless Billing  Payment Method  \\\n",
      "0       1               0  ...         0                  1               3   \n",
      "1       0               0  ...         0                  1               2   \n",
      "2       0               0  ...         0                  1               2   \n",
      "3       0               0  ...         0                  1               2   \n",
      "4       1               0  ...         0                  1               0   \n",
      "5       0               0  ...         0                  0               1   \n",
      "6       1               1  ...         0                  1               2   \n",
      "7       1               0  ...         0                  0               3   \n",
      "8       1               0  ...         0                  1               2   \n",
      "9       1               0  ...         0                  0               2   \n",
      "\n",
      "   Monthly Charges  Total Charges  Churn Label  Churn Value  Churn Score  \\\n",
      "0        -0.362660      -0.959674            1          1.0         86.0   \n",
      "1         0.197365      -0.940470            1          1.0         67.0   \n",
      "2         1.159546      -0.645186            1          1.0         86.0   \n",
      "3         1.330711       0.337349            1          1.0         84.0   \n",
      "4         1.294151       1.216004            1          1.0         89.0   \n",
      "5        -0.317792      -0.774164            1          1.0         78.0   \n",
      "6        -0.834611      -0.989915            1          1.0        100.0   \n",
      "7        -1.482712      -0.998524            1          1.0         92.0   \n",
      "8         1.149575       1.089233            1          1.0         77.0   \n",
      "9        -1.148690      -0.994087            1          1.0         97.0   \n",
      "\n",
      "     CLTV  TotalCharges_per_Month  \n",
      "0  3239.0               -0.355305  \n",
      "1  2701.0                0.365282  \n",
      "2  5372.0                1.251106  \n",
      "3  5003.0                1.457343  \n",
      "4  5340.0                1.258366  \n",
      "5  5925.0               -0.396386  \n",
      "6  5433.0               -0.833211  \n",
      "7  4832.0               -1.479254  \n",
      "8  5789.0                1.200856  \n",
      "9  2915.0               -1.146293  \n",
      "\n",
      "[10 rows x 32 columns]\n"
     ]
    }
   ],
   "source": [
    "# Imports\n",
    "import os\n",
    "import sys\n",
    "import pandas as pd\n",
    "import numpy as np\n",
    "import matplotlib.pyplot as plt\n",
    "import seaborn as sns\n",
    "from sklearn.model_selection import train_test_split, GridSearchCV, cross_val_score\n",
    "from sklearn.preprocessing import StandardScaler\n",
    "from sklearn.metrics import accuracy_score, confusion_matrix, classification_report\n",
    "from sklearn.linear_model import LogisticRegression\n",
    "from sklearn.ensemble import RandomForestClassifier, GradientBoostingClassifier\n",
    "from sklearn.svm import SVC\n",
    "from sklearn.impute import SimpleImputer\n",
    "from sklearn.tree import DecisionTreeClassifier\n",
    "from sklearn.preprocessing import LabelEncoder\n",
    "\n",
    "# Beispiel, wie eine CSV-Datei geladen wird\n",
    "csv_file_path = '../Data/Telco_customer_churn.xlsx'\n",
    "\n",
    "try:\n",
    "    data = pd.read_csv(csv_file_path)\n",
    "    print(\"File read successfully as a CSV file.\")\n",
    "    \n",
    "    # Check the shape of your data\n",
    "    print(\"Shape of the data:\", data.shape)\n",
    "    \n",
    "    # Display the first few rows of the data\n",
    "    print(data.head(10))\n",
    "    \n",
    "except FileNotFoundError:\n",
    "    print(f\"The file at {csv_file_path} was not found. Please check the file path and try again.\")\n",
    "except Exception as e:\n",
    "    print(f\"An unexpected error occurred while reading the file: {e}\")"
   ]
  },
  {
   "cell_type": "markdown",
   "metadata": {},
   "source": [
    "# Data Cleaning and Feature Engineering"
   ]
  },
  {
   "cell_type": "code",
   "execution_count": 2,
   "metadata": {},
   "outputs": [
    {
     "name": "stdout",
     "output_type": "stream",
     "text": [
      "Count                      0\n",
      "Country                    0\n",
      "State                      0\n",
      "City                       0\n",
      "Zip Code                   0\n",
      "Lat Long                   0\n",
      "Latitude                   0\n",
      "Longitude                  0\n",
      "Gender                     0\n",
      "Senior Citizen             0\n",
      "Partner                    0\n",
      "Dependents                 0\n",
      "Tenure Months              0\n",
      "Phone Service              0\n",
      "Multiple Lines             0\n",
      "Internet Service           0\n",
      "Online Security            0\n",
      "Online Backup              0\n",
      "Device Protection          0\n",
      "Tech Support               0\n",
      "Streaming TV               0\n",
      "Streaming Movies           0\n",
      "Contract                   0\n",
      "Paperless Billing          0\n",
      "Payment Method             0\n",
      "Monthly Charges            0\n",
      "Total Charges              0\n",
      "Churn Label                0\n",
      "Churn Value                0\n",
      "Churn Score                0\n",
      "CLTV                       0\n",
      "TotalCharges_per_Month    11\n",
      "dtype: int64\n",
      "<class 'pandas.core.frame.DataFrame'>\n",
      "RangeIndex: 7043 entries, 0 to 7042\n",
      "Data columns (total 32 columns):\n",
      " #   Column                  Non-Null Count  Dtype  \n",
      "---  ------                  --------------  -----  \n",
      " 0   Count                   7043 non-null   float64\n",
      " 1   Country                 7043 non-null   int64  \n",
      " 2   State                   7043 non-null   int64  \n",
      " 3   City                    7043 non-null   int64  \n",
      " 4   Zip Code                7043 non-null   float64\n",
      " 5   Lat Long                7043 non-null   int64  \n",
      " 6   Latitude                7043 non-null   float64\n",
      " 7   Longitude               7043 non-null   float64\n",
      " 8   Gender                  7043 non-null   int64  \n",
      " 9   Senior Citizen          7043 non-null   int64  \n",
      " 10  Partner                 7043 non-null   int64  \n",
      " 11  Dependents              7043 non-null   int64  \n",
      " 12  Tenure Months           7043 non-null   float64\n",
      " 13  Phone Service           7043 non-null   int64  \n",
      " 14  Multiple Lines          7043 non-null   int64  \n",
      " 15  Internet Service        7043 non-null   int64  \n",
      " 16  Online Security         7043 non-null   int64  \n",
      " 17  Online Backup           7043 non-null   int64  \n",
      " 18  Device Protection       7043 non-null   int64  \n",
      " 19  Tech Support            7043 non-null   int64  \n",
      " 20  Streaming TV            7043 non-null   int64  \n",
      " 21  Streaming Movies        7043 non-null   int64  \n",
      " 22  Contract                7043 non-null   int64  \n",
      " 23  Paperless Billing       7043 non-null   int64  \n",
      " 24  Payment Method          7043 non-null   int64  \n",
      " 25  Monthly Charges         7043 non-null   float64\n",
      " 26  Total Charges           7043 non-null   float64\n",
      " 27  Churn Label             7043 non-null   int64  \n",
      " 28  Churn Value             7043 non-null   float64\n",
      " 29  Churn Score             7043 non-null   float64\n",
      " 30  CLTV                    7043 non-null   float64\n",
      " 31  TotalCharges_per_Month  7032 non-null   float64\n",
      "dtypes: float64(11), int64(21)\n",
      "memory usage: 1.7 MB\n",
      "None\n"
     ]
    }
   ],
   "source": [
    "# Data Cleaning and Feature Engineering\n",
    "# Check for missing values\n",
    "print(data.isnull().sum())\n",
    "\n",
    "# Data types and basic info\n",
    "print(data.info())\n"
   ]
  },
  {
   "cell_type": "code",
   "execution_count": 3,
   "metadata": {},
   "outputs": [],
   "source": [
    "# Handling missing values\n",
    "data['Total Charges'] = pd.to_numeric(data['Total Charges'], errors='coerce')"
   ]
  },
  {
   "cell_type": "code",
   "execution_count": 4,
   "metadata": {},
   "outputs": [],
   "source": [
    "\n",
    "# Separate numerical and categorical columns\n",
    "numerical_columns = data.select_dtypes(include=[np.number]).columns.tolist()\n",
    "categorical_columns = data.select_dtypes(include=[object]).columns.tolist()"
   ]
  },
  {
   "cell_type": "code",
   "execution_count": 5,
   "metadata": {},
   "outputs": [],
   "source": [
    "# Clean columns 'Monthly Charges' and 'Total Charges'\n",
    "data['Monthly Charges'] = data['Monthly Charges'].replace(\" \", np.nan).astype(float)\n",
    "data['Total Charges'] = data['Total Charges'].replace(\" \", np.nan).astype(float)"
   ]
  },
  {
   "cell_type": "code",
   "execution_count": 6,
   "metadata": {},
   "outputs": [],
   "source": [
    "# Fill missing values for numerical columns with median\n",
    "imputer_num = SimpleImputer(strategy='median')\n",
    "data[numerical_columns] = imputer_num.fit_transform(data[numerical_columns])"
   ]
  },
  {
   "cell_type": "code",
   "execution_count": 7,
   "metadata": {},
   "outputs": [],
   "source": [
    "# Encoding categorical variables\n",
    "le = LabelEncoder()\n",
    "for column in categorical_columns:\n",
    "    if column not in ['CustomerID', 'Churn Reason']:\n",
    "        data[column] = le.fit_transform(data[column])"
   ]
  },
  {
   "cell_type": "code",
   "execution_count": 8,
   "metadata": {},
   "outputs": [],
   "source": [
    "# Feature engineering\n",
    "# Prevent division by zero by replacing zeroes with NaN in 'Tenure Months'\n",
    "data['Tenure Months'] = data['Tenure Months'].replace(0, np.nan)\n",
    "data['TotalCharges_per_Month'] = data['Total Charges'] / data['Tenure Months']\n",
    "\n"
   ]
  },
  {
   "cell_type": "code",
   "execution_count": 9,
   "metadata": {},
   "outputs": [],
   "source": [
    "# Replace infinite values with NaN\n",
    "data.replace([np.inf, -np.inf], np.nan, inplace=True)"
   ]
  },
  {
   "cell_type": "code",
   "execution_count": 10,
   "metadata": {},
   "outputs": [],
   "source": [
    "# Impute remaining missing values\n",
    "data[numerical_columns] = imputer_num.fit_transform(data[numerical_columns])"
   ]
  },
  {
   "cell_type": "code",
   "execution_count": 11,
   "metadata": {},
   "outputs": [],
   "source": [
    "# Normalize numerical features\n",
    "scaler = StandardScaler()\n",
    "numerical_features = ['Tenure Months', 'Monthly Charges', 'Total Charges', 'TotalCharges_per_Month']\n",
    "data[numerical_features] = scaler.fit_transform(data[numerical_features])"
   ]
  },
  {
   "cell_type": "code",
   "execution_count": 12,
   "metadata": {},
   "outputs": [
    {
     "data": {
      "text/plain": [
       "Index(['Count', 'Country', 'State', 'City', 'Zip Code', 'Lat Long', 'Latitude',\n",
       "       'Longitude', 'Gender', 'Senior Citizen', 'Partner', 'Dependents',\n",
       "       'Tenure Months', 'Phone Service', 'Multiple Lines', 'Internet Service',\n",
       "       'Online Security', 'Online Backup', 'Device Protection', 'Tech Support',\n",
       "       'Streaming TV', 'Streaming Movies', 'Contract', 'Paperless Billing',\n",
       "       'Payment Method', 'Monthly Charges', 'Total Charges', 'Churn Label',\n",
       "       'Churn Value', 'Churn Score', 'CLTV', 'TotalCharges_per_Month'],\n",
       "      dtype='object')"
      ]
     },
     "execution_count": 12,
     "metadata": {},
     "output_type": "execute_result"
    }
   ],
   "source": [
    "# Dropping unnecessary columns\n",
    "data.columns\n"
   ]
  },
  {
   "cell_type": "code",
   "execution_count": 13,
   "metadata": {},
   "outputs": [
    {
     "name": "stdout",
     "output_type": "stream",
     "text": [
      "Count                     0\n",
      "Country                   0\n",
      "State                     0\n",
      "City                      0\n",
      "Zip Code                  0\n",
      "Lat Long                  0\n",
      "Latitude                  0\n",
      "Longitude                 0\n",
      "Gender                    0\n",
      "Senior Citizen            0\n",
      "Partner                   0\n",
      "Dependents                0\n",
      "Tenure Months             0\n",
      "Phone Service             0\n",
      "Multiple Lines            0\n",
      "Internet Service          0\n",
      "Online Security           0\n",
      "Online Backup             0\n",
      "Device Protection         0\n",
      "Tech Support              0\n",
      "Streaming TV              0\n",
      "Streaming Movies          0\n",
      "Contract                  0\n",
      "Paperless Billing         0\n",
      "Payment Method            0\n",
      "Monthly Charges           0\n",
      "Total Charges             0\n",
      "Churn Label               0\n",
      "Churn Value               0\n",
      "Churn Score               0\n",
      "CLTV                      0\n",
      "TotalCharges_per_Month    0\n",
      "dtype: int64\n"
     ]
    }
   ],
   "source": [
    "# Ensure no NaN values remain in the data\n",
    "print(data.isnull().sum())\n"
   ]
  },
  {
   "cell_type": "markdown",
   "metadata": {},
   "source": [
    "# Explorative Datenanalyse (EDA)"
   ]
  },
  {
   "cell_type": "code",
   "execution_count": 14,
   "metadata": {},
   "outputs": [
    {
     "data": {
      "image/png": "[encoded data removed]",
      "text/plain": [
       "<Figure size 640x480 with 1 Axes>"
      ]
     },
     "metadata": {},
     "output_type": "display_data"
    }
   ],
   "source": [
    "# Distribution of the target variable\n",
    "sns.countplot(x='Churn Label', data=data)\n",
    "plt.title('Distribution of Churn')\n",
    "plt.show()\n"
   ]
  },
  {
   "cell_type": "code",
   "execution_count": null,
   "metadata": {},
   "outputs": [],
   "source": [
    "# Pairplot to visualize relationships\n",
    "sns.pairplot(data, hue='Churn Label', diag_kind='kde')\n",
    "plt.show()\n"
   ]
  }
 ],
 "metadata": {
  "kernelspec": {
   "display_name": "base",
   "language": "python",
   "name": "python3"
  },
  "language_info": {
   "codemirror_mode": {
    "name": "ipython",
    "version": 3
   },
   "file_extension": ".py",
   "mimetype": "text/x-python",
   "name": "python",
   "nbconvert_exporter": "python",
   "pygments_lexer": "ipython3",
   "version": "3.11.7"
  }
 },
 "nbformat": 4,
 "nbformat_minor": 2
}
