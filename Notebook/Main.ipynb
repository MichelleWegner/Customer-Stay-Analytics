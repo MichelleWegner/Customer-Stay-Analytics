{
 "cells": [
  {
   "cell_type": "code",
   "execution_count": 1,
   "metadata": {},
   "outputs": [
    {
     "name": "stdout",
     "output_type": "stream",
     "text": [
      "Requirement already satisfied: pandas in /Applications/anaconda3/lib/python3.11/site-packages (2.2.2)\n",
      "Requirement already satisfied: openpyxl in /Applications/anaconda3/lib/python3.11/site-packages (3.1.5)\n",
      "Requirement already satisfied: xlrd in /Applications/anaconda3/lib/python3.11/site-packages (2.0.1)\n",
      "Requirement already satisfied: seaborn in /Applications/anaconda3/lib/python3.11/site-packages (0.13.2)\n",
      "Requirement already satisfied: scikit-learn in /Applications/anaconda3/lib/python3.11/site-packages (1.5.1)\n",
      "Requirement already satisfied: numpy>=1.23.2 in /Applications/anaconda3/lib/python3.11/site-packages (from pandas) (1.26.4)\n",
      "Requirement already satisfied: python-dateutil>=2.8.2 in /Applications/anaconda3/lib/python3.11/site-packages (from pandas) (2.8.2)\n",
      "Requirement already satisfied: pytz>=2020.1 in /Applications/anaconda3/lib/python3.11/site-packages (from pandas) (2023.3.post1)\n",
      "Requirement already satisfied: tzdata>=2022.7 in /Applications/anaconda3/lib/python3.11/site-packages (from pandas) (2023.3)\n",
      "Requirement already satisfied: et-xmlfile in /Applications/anaconda3/lib/python3.11/site-packages (from openpyxl) (1.1.0)\n",
      "Requirement already satisfied: matplotlib!=3.6.1,>=3.4 in /Applications/anaconda3/lib/python3.11/site-packages (from seaborn) (3.9.0)\n",
      "Requirement already satisfied: scipy>=1.6.0 in /Applications/anaconda3/lib/python3.11/site-packages (from scikit-learn) (1.14.0)\n",
      "Requirement already satisfied: joblib>=1.2.0 in /Applications/anaconda3/lib/python3.11/site-packages (from scikit-learn) (1.4.2)\n",
      "Requirement already satisfied: threadpoolctl>=3.1.0 in /Applications/anaconda3/lib/python3.11/site-packages (from scikit-learn) (3.5.0)\n",
      "Requirement already satisfied: contourpy>=1.0.1 in /Applications/anaconda3/lib/python3.11/site-packages (from matplotlib!=3.6.1,>=3.4->seaborn) (1.2.0)\n",
      "Requirement already satisfied: cycler>=0.10 in /Applications/anaconda3/lib/python3.11/site-packages (from matplotlib!=3.6.1,>=3.4->seaborn) (0.12.1)\n",
      "Requirement already satisfied: fonttools>=4.22.0 in /Applications/anaconda3/lib/python3.11/site-packages (from matplotlib!=3.6.1,>=3.4->seaborn) (4.53.0)\n",
      "Requirement already satisfied: kiwisolver>=1.3.1 in /Applications/anaconda3/lib/python3.11/site-packages (from matplotlib!=3.6.1,>=3.4->seaborn) (1.4.5)\n",
      "Requirement already satisfied: packaging>=20.0 in /Applications/anaconda3/lib/python3.11/site-packages (from matplotlib!=3.6.1,>=3.4->seaborn) (23.1)\n",
      "Requirement already satisfied: pillow>=8 in /Applications/anaconda3/lib/python3.11/site-packages (from matplotlib!=3.6.1,>=3.4->seaborn) (10.2.0)\n",
      "Requirement already satisfied: pyparsing>=2.3.1 in /Applications/anaconda3/lib/python3.11/site-packages (from matplotlib!=3.6.1,>=3.4->seaborn) (3.1.2)\n",
      "Requirement already satisfied: six>=1.5 in /Applications/anaconda3/lib/python3.11/site-packages (from python-dateutil>=2.8.2->pandas) (1.16.0)\n",
      "Note: you may need to restart the kernel to use updated packages.\n"
     ]
    }
   ],
   "source": [
    "pip install pandas openpyxl xlrd seaborn scikit-learn"
   ]
  },
  {
   "cell_type": "code",
   "execution_count": 2,
   "metadata": {},
   "outputs": [],
   "source": [
    "# main.ipynb\n",
    "\n",
    "import os\n",
    "import sys\n",
    "import pandas as pd\n",
    "\n",
    "# Set the path to the directory containing the 'scripts' module\n",
    "sys.path.append(os.path.abspath('../scripts'))\n",
    "\n",
    "# Import necessary modules\n",
    "from data_preparation import load_data, clean_data, save_cleaned_data\n",
    "from eda import perform_eda\n",
    "from modeling import build_and_evaluate_model\n",
    "from visualization import plot_data\n",
    "\n",
    "\n",
    "\n",
    "# File paths\n",
    "input_file_path = '../Data/Telco_customer_churn.xlsx'\n",
    "output_file_path = './Users/mishka/Documents/GitHub/Sixth/Data/Cleaned_Telco_customer_churn.csv'\n"
   ]
  },
  {
   "cell_type": "code",
   "execution_count": 3,
   "metadata": {},
   "outputs": [
    {
     "name": "stdout",
     "output_type": "stream",
     "text": [
      "An error occurred: File is not a zip file\n"
     ]
    },
    {
     "ename": "NameError",
     "evalue": "name 'data' is not defined",
     "output_type": "error",
     "traceback": [
      "\u001b[0;31m---------------------------------------------------------------------------\u001b[0m",
      "\u001b[0;31mNameError\u001b[0m                                 Traceback (most recent call last)",
      "Cell \u001b[0;32mIn[3], line 8\u001b[0m\n\u001b[1;32m      5\u001b[0m \u001b[38;5;28;01mexcept\u001b[39;00m \u001b[38;5;167;01mException\u001b[39;00m \u001b[38;5;28;01mas\u001b[39;00m e:\n\u001b[1;32m      6\u001b[0m     \u001b[38;5;28mprint\u001b[39m(\u001b[38;5;124mf\u001b[39m\u001b[38;5;124m\"\u001b[39m\u001b[38;5;124mAn error occurred: \u001b[39m\u001b[38;5;132;01m{\u001b[39;00me\u001b[38;5;132;01m}\u001b[39;00m\u001b[38;5;124m\"\u001b[39m)\n\u001b[0;32m----> 8\u001b[0m cleaned_data \u001b[38;5;241m=\u001b[39m clean_data(data)\n\u001b[1;32m      9\u001b[0m save_cleaned_data(cleaned_data, output_file_path)\n",
      "\u001b[0;31mNameError\u001b[0m: name 'data' is not defined"
     ]
    }
   ],
   "source": [
    "# Load and clean data\n",
    "try:\n",
    "    data = load_data(input_file_path)\n",
    "    print(\"File loaded successfully\")\n",
    "except Exception as e:\n",
    "    print(f\"An error occurred: {e}\")\n",
    "\n",
    "cleaned_data = clean_data(data)\n",
    "save_cleaned_data(cleaned_data, output_file_path)\n"
   ]
  },
  {
   "cell_type": "code",
   "execution_count": null,
   "metadata": {},
   "outputs": [],
   "source": [
    "# Perform EDA\n",
    "perform_eda(cleaned_data)\n",
    "\n",
    "# Build and evaluate model\n",
    "build_and_evaluate_model(cleaned_data)\n",
    "\n",
    "# Plot data\n",
    "plot_data(cleaned_data)"
   ]
  },
  {
   "cell_type": "code",
   "execution_count": null,
   "metadata": {},
   "outputs": [],
   "source": []
  },
  {
   "cell_type": "code",
   "execution_count": null,
   "metadata": {},
   "outputs": [],
   "source": []
  },
  {
   "cell_type": "code",
   "execution_count": null,
   "metadata": {},
   "outputs": [],
   "source": []
  },
  {
   "cell_type": "code",
   "execution_count": null,
   "metadata": {},
   "outputs": [],
   "source": [
    "# Set the path to the directory containing the 'scripts' module\n",
    "sys.path.append(os.path.abspath('.../scripts'))"
   ]
  },
  {
   "cell_type": "code",
   "execution_count": null,
   "metadata": {},
   "outputs": [],
   "source": [
    "# Set the path to the directory containing the 'scripts' module\n",
    "sys.path.append(os.path.abspath('../'))"
   ]
  },
  {
   "cell_type": "code",
   "execution_count": null,
   "metadata": {},
   "outputs": [],
   "source": [
    "# main.ipynb\n",
    "\n",
    "import os\n",
    "import sys\n",
    "import pandas as pd\n",
    "import pandas as pd\n",
    "\n",
    "# Beispiel, wie eine CSV-Datei geladen wird\n",
    "csv_file_path = '../Data/Telco_customer_churn.xlsx'\n",
    "\n",
    "try:\n",
    "    df_csv = pd.read_csv(csv_file_path)\n",
    "    print(\"File read successfully as a CSV file.\")\n",
    "    \n",
    "    # Check the shape of your data\n",
    "    print(\"Shape of the data:\", df_csv.shape)\n",
    "    \n",
    "    # Display the first few rows of the data\n",
    "    print(df_csv.head(10))\n",
    "    \n",
    "except FileNotFoundError:\n",
    "    print(f\"The file at {csv_file_path} was not found. Please check the file path and try again.\")\n",
    "except Exception as e:\n",
    "    print(f\"An unexpected error occurred while reading the file: {e}\")"
   ]
  },
  {
   "cell_type": "code",
   "execution_count": null,
   "metadata": {},
   "outputs": [],
   "source": [
    "cleaned_data = clean_data(data)\n",
    "save_cleaned_data(cleaned_data, output_file_path)\n",
    "\n",
    "# Perform EDA\n",
    "perform_eda(cleaned_data)\n",
    "\n",
    "# Build and evaluate model\n",
    "build_and_evaluate_model(cleaned_data)\n",
    "\n",
    "# Plot data\n",
    "plot_data(cleaned_data)"
   ]
  }
 ],
 "metadata": {
  "kernelspec": {
   "display_name": "base",
   "language": "python",
   "name": "python3"
  },
  "language_info": {
   "codemirror_mode": {
    "name": "ipython",
    "version": 3
   },
   "file_extension": ".py",
   "mimetype": "text/x-python",
   "name": "python",
   "nbconvert_exporter": "python",
   "pygments_lexer": "ipython3",
   "version": "3.11.7"
  }
 },
 "nbformat": 4,
 "nbformat_minor": 2
}
