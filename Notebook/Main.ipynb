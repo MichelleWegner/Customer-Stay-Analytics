{
 "cells": [
  {
   "cell_type": "code",
   "execution_count": null,
   "metadata": {},
   "outputs": [],
   "source": [
    "pip install pandas openpyxl xlrd seaborn scikit-learn"
   ]
  },
  {
   "cell_type": "code",
   "execution_count": null,
   "metadata": {},
   "outputs": [],
   "source": [
    "# main.ipynb\n",
    "\n",
    "import os\n",
    "import sys\n",
    "import pandas as pd\n",
    "\n",
    "# Set the path to the directory containing the 'scripts' module\n",
    "sys.path.append(os.path.abspath('../scripts'))\n",
    "\n",
    "# Import necessary modules\n",
    "from data_preparation import load_data, clean_data, save_cleaned_data\n",
    "from eda import perform_eda\n",
    "from modeling import build_and_evaluate_model\n",
    "from visualization import plot_data\n",
    "\n",
    "\n",
    "\n",
    "# File paths\n",
    "input_file_path = '../Data/Telco_customer_churn.xlsx'\n",
    "output_file_path = './Users/mishka/Documents/GitHub/Sixth/Data/Cleaned_Telco_customer_churn.csv'\n"
   ]
  },
  {
   "cell_type": "code",
   "execution_count": null,
   "metadata": {},
   "outputs": [],
   "source": [
    "# Load and clean data\n",
    "try:\n",
    "    data = load_data(input_file_path)\n",
    "    print(\"File loaded successfully\")\n",
    "except Exception as e:\n",
    "    print(f\"An error occurred: {e}\")\n",
    "\n",
    "cleaned_data = clean_data(data)\n",
    "save_cleaned_data(cleaned_data, output_file_path)\n"
   ]
  },
  {
   "cell_type": "code",
   "execution_count": null,
   "metadata": {},
   "outputs": [],
   "source": [
    "# Perform EDA\n",
    "perform_eda(cleaned_data)\n",
    "\n",
    "# Build and evaluate model\n",
    "build_and_evaluate_model(cleaned_data)\n",
    "\n",
    "# Plot data\n",
    "plot_data(cleaned_data)"
   ]
  },
  {
   "cell_type": "code",
   "execution_count": null,
   "metadata": {},
   "outputs": [],
   "source": []
  },
  {
   "cell_type": "code",
   "execution_count": null,
   "metadata": {},
   "outputs": [],
   "source": []
  },
  {
   "cell_type": "code",
   "execution_count": null,
   "metadata": {},
   "outputs": [],
   "source": []
  },
  {
   "cell_type": "code",
   "execution_count": null,
   "metadata": {},
   "outputs": [],
   "source": [
    "# Set the path to the directory containing the 'scripts' module\n",
    "sys.path.append(os.path.abspath('.../scripts'))"
   ]
  },
  {
   "cell_type": "code",
   "execution_count": null,
   "metadata": {},
   "outputs": [],
   "source": [
    "# Set the path to the directory containing the 'scripts' module\n",
    "sys.path.append(os.path.abspath('../'))"
   ]
  },
  {
   "cell_type": "code",
   "execution_count": null,
   "metadata": {},
   "outputs": [],
   "source": [
    "# main.ipynb\n",
    "\n",
    "import os\n",
    "import sys\n",
    "import pandas as pd\n",
    "import pandas as pd\n",
    "\n",
    "# Beispiel, wie eine CSV-Datei geladen wird\n",
    "csv_file_path = '../Data/Telco_customer_churn.xlsx'\n",
    "\n",
    "try:\n",
    "    df_csv = pd.read_csv(csv_file_path)\n",
    "    print(\"File read successfully as a CSV file.\")\n",
    "    \n",
    "    # Check the shape of your data\n",
    "    print(\"Shape of the data:\", df_csv.shape)\n",
    "    \n",
    "    # Display the first few rows of the data\n",
    "    print(df_csv.head(10))\n",
    "    \n",
    "except FileNotFoundError:\n",
    "    print(f\"The file at {csv_file_path} was not found. Please check the file path and try again.\")\n",
    "except Exception as e:\n",
    "    print(f\"An unexpected error occurred while reading the file: {e}\")"
   ]
  },
  {
   "cell_type": "code",
   "execution_count": null,
   "metadata": {},
   "outputs": [],
   "source": [
    "cleaned_data = clean_data(data)\n",
    "save_cleaned_data(cleaned_data, output_file_path)\n",
    "\n",
    "# Perform EDA\n",
    "perform_eda(cleaned_data)\n",
    "\n",
    "# Build and evaluate model\n",
    "build_and_evaluate_model(cleaned_data)\n",
    "\n",
    "# Plot data\n",
    "plot_data(cleaned_data)"
   ]
  }
 ],
 "metadata": {
  "kernelspec": {
   "display_name": "base",
   "language": "python",
   "name": "python3"
  },
  "language_info": {
   "codemirror_mode": {
    "name": "ipython",
    "version": 3
   },
   "file_extension": ".py",
   "mimetype": "text/x-python",
   "name": "python",
   "nbconvert_exporter": "python",
   "pygments_lexer": "ipython3",
   "version": "3.11.7"
  }
 },
 "nbformat": 4,
 "nbformat_minor": 2
}
